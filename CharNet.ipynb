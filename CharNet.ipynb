{
 "cells": [
  {
   "cell_type": "markdown",
   "metadata": {},
   "source": [
    "# Charnet"
   ]
  },
  {
   "cell_type": "code",
   "execution_count": 1,
   "metadata": {},
   "outputs": [
    {
     "output_type": "error",
     "ename": "Error",
     "evalue": "Jupyter cannot be started. Error attempting to locate jupyter: Data Science library notebook is not installed in interpreter Python 3.7.7 64-bit.",
     "traceback": [
      "Error: Jupyter cannot be started. Error attempting to locate jupyter: Data Science library notebook is not installed in interpreter Python 3.7.7 64-bit.",
      "at w.startServer (/home/ryan/.vscode/extensions/ms-toolsai.jupyter-2020.12.414227025/out/client/extension.js:49:379970)",
      "at processTicksAndRejections (internal/process/task_queues.js:97:5)",
      "at async w.createServer (/home/ryan/.vscode/extensions/ms-toolsai.jupyter-2020.12.414227025/out/client/extension.js:49:379268)",
      "at async connect (/home/ryan/.vscode/extensions/ms-toolsai.jupyter-2020.12.414227025/out/client/extension.js:49:504021)",
      "at async f.ensureConnectionAndNotebookImpl (/home/ryan/.vscode/extensions/ms-toolsai.jupyter-2020.12.414227025/out/client/extension.js:32:590192)",
      "at async f.ensureConnectionAndNotebook (/home/ryan/.vscode/extensions/ms-toolsai.jupyter-2020.12.414227025/out/client/extension.js:32:588656)",
      "at async f.clearResult (/home/ryan/.vscode/extensions/ms-toolsai.jupyter-2020.12.414227025/out/client/extension.js:32:584410)",
      "at async f.reexecuteCell (/home/ryan/.vscode/extensions/ms-toolsai.jupyter-2020.12.414227025/out/client/extension.js:9:171119)",
      "at async f.reexecuteCells (/home/ryan/.vscode/extensions/ms-toolsai.jupyter-2020.12.414227025/out/client/extension.js:9:167423)"
     ]
    }
   ],
   "source": [
    "URL_EMMA = 'https://docs.google.com/spreadsheets/d/e/2PACX-1vQ-nAsuxYqX5Fr0b53FtKfHNmtQM2g-YOD5vpqrWKb4CSL8wAXSBdi2BgCZQ_eBT4J-gT-G0d3RSMB6/pub?gid=1146910799&single=true&output=csv'}"
   ]
  },
  {
   "cell_type": "code",
   "execution_count": 2,
   "metadata": {},
   "outputs": [],
   "source": [
    "import hairball as hb"
   ]
  },
  {
   "cell_type": "code",
   "execution_count": 3,
   "metadata": {},
   "outputs": [
    {
     "data": {
      "text/html": [
       "\n",
       "    <div class=\"bk-root\">\n",
       "        <a href=\"https://bokeh.org\" target=\"_blank\" class=\"bk-logo bk-logo-small bk-logo-notebook\"></a>\n",
       "        <span id=\"1001\">Loading BokehJS ...</span>\n",
       "    </div>"
      ]
     },
     "metadata": {},
     "output_type": "display_data"
    },
    {
     "data": {
      "application/javascript": [
       "\n",
       "(function(root) {\n",
       "  function now() {\n",
       "    return new Date();\n",
       "  }\n",
       "\n",
       "  var force = true;\n",
       "\n",
       "  if (typeof root._bokeh_onload_callbacks === \"undefined\" || force === true) {\n",
       "    root._bokeh_onload_callbacks = [];\n",
       "    root._bokeh_is_loading = undefined;\n",
       "  }\n",
       "\n",
       "  var JS_MIME_TYPE = 'application/javascript';\n",
       "  var HTML_MIME_TYPE = 'text/html';\n",
       "  var EXEC_MIME_TYPE = 'application/vnd.bokehjs_exec.v0+json';\n",
       "  var CLASS_NAME = 'output_bokeh rendered_html';\n",
       "\n",
       "  /**\n",
       "   * Render data to the DOM node\n",
       "   */\n",
       "  function render(props, node) {\n",
       "    var script = document.createElement(\"script\");\n",
       "    node.appendChild(script);\n",
       "  }\n",
       "\n",
       "  /**\n",
       "   * Handle when an output is cleared or removed\n",
       "   */\n",
       "  function handleClearOutput(event, handle) {\n",
       "    var cell = handle.cell;\n",
       "\n",
       "    var id = cell.output_area._bokeh_element_id;\n",
       "    var server_id = cell.output_area._bokeh_server_id;\n",
       "    // Clean up Bokeh references\n",
       "    if (id != null && id in Bokeh.index) {\n",
       "      Bokeh.index[id].model.document.clear();\n",
       "      delete Bokeh.index[id];\n",
       "    }\n",
       "\n",
       "    if (server_id !== undefined) {\n",
       "      // Clean up Bokeh references\n",
       "      var cmd = \"from bokeh.io.state import curstate; print(curstate().uuid_to_server['\" + server_id + \"'].get_sessions()[0].document.roots[0]._id)\";\n",
       "      cell.notebook.kernel.execute(cmd, {\n",
       "        iopub: {\n",
       "          output: function(msg) {\n",
       "            var id = msg.content.text.trim();\n",
       "            if (id in Bokeh.index) {\n",
       "              Bokeh.index[id].model.document.clear();\n",
       "              delete Bokeh.index[id];\n",
       "            }\n",
       "          }\n",
       "        }\n",
       "      });\n",
       "      // Destroy server and session\n",
       "      var cmd = \"import bokeh.io.notebook as ion; ion.destroy_server('\" + server_id + \"')\";\n",
       "      cell.notebook.kernel.execute(cmd);\n",
       "    }\n",
       "  }\n",
       "\n",
       "  /**\n",
       "   * Handle when a new output is added\n",
       "   */\n",
       "  function handleAddOutput(event, handle) {\n",
       "    var output_area = handle.output_area;\n",
       "    var output = handle.output;\n",
       "\n",
       "    // limit handleAddOutput to display_data with EXEC_MIME_TYPE content only\n",
       "    if ((output.output_type != \"display_data\") || (!output.data.hasOwnProperty(EXEC_MIME_TYPE))) {\n",
       "      return\n",
       "    }\n",
       "\n",
       "    var toinsert = output_area.element.find(\".\" + CLASS_NAME.split(' ')[0]);\n",
       "\n",
       "    if (output.metadata[EXEC_MIME_TYPE][\"id\"] !== undefined) {\n",
       "      toinsert[toinsert.length - 1].firstChild.textContent = output.data[JS_MIME_TYPE];\n",
       "      // store reference to embed id on output_area\n",
       "      output_area._bokeh_element_id = output.metadata[EXEC_MIME_TYPE][\"id\"];\n",
       "    }\n",
       "    if (output.metadata[EXEC_MIME_TYPE][\"server_id\"] !== undefined) {\n",
       "      var bk_div = document.createElement(\"div\");\n",
       "      bk_div.innerHTML = output.data[HTML_MIME_TYPE];\n",
       "      var script_attrs = bk_div.children[0].attributes;\n",
       "      for (var i = 0; i < script_attrs.length; i++) {\n",
       "        toinsert[toinsert.length - 1].firstChild.setAttribute(script_attrs[i].name, script_attrs[i].value);\n",
       "        toinsert[toinsert.length - 1].firstChild.textContent = bk_div.children[0].textContent\n",
       "      }\n",
       "      // store reference to server id on output_area\n",
       "      output_area._bokeh_server_id = output.metadata[EXEC_MIME_TYPE][\"server_id\"];\n",
       "    }\n",
       "  }\n",
       "\n",
       "  function register_renderer(events, OutputArea) {\n",
       "\n",
       "    function append_mime(data, metadata, element) {\n",
       "      // create a DOM node to render to\n",
       "      var toinsert = this.create_output_subarea(\n",
       "        metadata,\n",
       "        CLASS_NAME,\n",
       "        EXEC_MIME_TYPE\n",
       "      );\n",
       "      this.keyboard_manager.register_events(toinsert);\n",
       "      // Render to node\n",
       "      var props = {data: data, metadata: metadata[EXEC_MIME_TYPE]};\n",
       "      render(props, toinsert[toinsert.length - 1]);\n",
       "      element.append(toinsert);\n",
       "      return toinsert\n",
       "    }\n",
       "\n",
       "    /* Handle when an output is cleared or removed */\n",
       "    events.on('clear_output.CodeCell', handleClearOutput);\n",
       "    events.on('delete.Cell', handleClearOutput);\n",
       "\n",
       "    /* Handle when a new output is added */\n",
       "    events.on('output_added.OutputArea', handleAddOutput);\n",
       "\n",
       "    /**\n",
       "     * Register the mime type and append_mime function with output_area\n",
       "     */\n",
       "    OutputArea.prototype.register_mime_type(EXEC_MIME_TYPE, append_mime, {\n",
       "      /* Is output safe? */\n",
       "      safe: true,\n",
       "      /* Index of renderer in `output_area.display_order` */\n",
       "      index: 0\n",
       "    });\n",
       "  }\n",
       "\n",
       "  // register the mime type if in Jupyter Notebook environment and previously unregistered\n",
       "  if (root.Jupyter !== undefined) {\n",
       "    var events = require('base/js/events');\n",
       "    var OutputArea = require('notebook/js/outputarea').OutputArea;\n",
       "\n",
       "    if (OutputArea.prototype.mime_types().indexOf(EXEC_MIME_TYPE) == -1) {\n",
       "      register_renderer(events, OutputArea);\n",
       "    }\n",
       "  }\n",
       "\n",
       "  \n",
       "  if (typeof (root._bokeh_timeout) === \"undefined\" || force === true) {\n",
       "    root._bokeh_timeout = Date.now() + 5000;\n",
       "    root._bokeh_failed_load = false;\n",
       "  }\n",
       "\n",
       "  var NB_LOAD_WARNING = {'data': {'text/html':\n",
       "     \"<div style='background-color: #fdd'>\\n\"+\n",
       "     \"<p>\\n\"+\n",
       "     \"BokehJS does not appear to have successfully loaded. If loading BokehJS from CDN, this \\n\"+\n",
       "     \"may be due to a slow or bad network connection. Possible fixes:\\n\"+\n",
       "     \"</p>\\n\"+\n",
       "     \"<ul>\\n\"+\n",
       "     \"<li>re-rerun `output_notebook()` to attempt to load from CDN again, or</li>\\n\"+\n",
       "     \"<li>use INLINE resources instead, as so:</li>\\n\"+\n",
       "     \"</ul>\\n\"+\n",
       "     \"<code>\\n\"+\n",
       "     \"from bokeh.resources import INLINE\\n\"+\n",
       "     \"output_notebook(resources=INLINE)\\n\"+\n",
       "     \"</code>\\n\"+\n",
       "     \"</div>\"}};\n",
       "\n",
       "  function display_loaded() {\n",
       "    var el = document.getElementById(\"1001\");\n",
       "    if (el != null) {\n",
       "      el.textContent = \"BokehJS is loading...\";\n",
       "    }\n",
       "    if (root.Bokeh !== undefined) {\n",
       "      if (el != null) {\n",
       "        el.textContent = \"BokehJS \" + root.Bokeh.version + \" successfully loaded.\";\n",
       "      }\n",
       "    } else if (Date.now() < root._bokeh_timeout) {\n",
       "      setTimeout(display_loaded, 100)\n",
       "    }\n",
       "  }\n",
       "\n",
       "\n",
       "  function run_callbacks() {\n",
       "    try {\n",
       "      root._bokeh_onload_callbacks.forEach(function(callback) {\n",
       "        if (callback != null)\n",
       "          callback();\n",
       "      });\n",
       "    } finally {\n",
       "      delete root._bokeh_onload_callbacks\n",
       "    }\n",
       "    console.debug(\"Bokeh: all callbacks have finished\");\n",
       "  }\n",
       "\n",
       "  function load_libs(css_urls, js_urls, callback) {\n",
       "    if (css_urls == null) css_urls = [];\n",
       "    if (js_urls == null) js_urls = [];\n",
       "\n",
       "    root._bokeh_onload_callbacks.push(callback);\n",
       "    if (root._bokeh_is_loading > 0) {\n",
       "      console.debug(\"Bokeh: BokehJS is being loaded, scheduling callback at\", now());\n",
       "      return null;\n",
       "    }\n",
       "    if (js_urls == null || js_urls.length === 0) {\n",
       "      run_callbacks();\n",
       "      return null;\n",
       "    }\n",
       "    console.debug(\"Bokeh: BokehJS not loaded, scheduling load and callback at\", now());\n",
       "    root._bokeh_is_loading = css_urls.length + js_urls.length;\n",
       "\n",
       "    function on_load() {\n",
       "      root._bokeh_is_loading--;\n",
       "      if (root._bokeh_is_loading === 0) {\n",
       "        console.debug(\"Bokeh: all BokehJS libraries/stylesheets loaded\");\n",
       "        run_callbacks()\n",
       "      }\n",
       "    }\n",
       "\n",
       "    function on_error() {\n",
       "      console.error(\"failed to load \" + url);\n",
       "    }\n",
       "\n",
       "    for (var i = 0; i < css_urls.length; i++) {\n",
       "      var url = css_urls[i];\n",
       "      const element = document.createElement(\"link\");\n",
       "      element.onload = on_load;\n",
       "      element.onerror = on_error;\n",
       "      element.rel = \"stylesheet\";\n",
       "      element.type = \"text/css\";\n",
       "      element.href = url;\n",
       "      console.debug(\"Bokeh: injecting link tag for BokehJS stylesheet: \", url);\n",
       "      document.body.appendChild(element);\n",
       "    }\n",
       "\n",
       "    const hashes = {\"https://cdn.bokeh.org/bokeh/release/bokeh-2.2.3.min.js\": \"T2yuo9Oe71Cz/I4X9Ac5+gpEa5a8PpJCDlqKYO0CfAuEszu1JrXLl8YugMqYe3sM\", \"https://cdn.bokeh.org/bokeh/release/bokeh-widgets-2.2.3.min.js\": \"98GDGJ0kOMCUMUePhksaQ/GYgB3+NH9h996V88sh3aOiUNX3N+fLXAtry6xctSZ6\", \"https://cdn.bokeh.org/bokeh/release/bokeh-tables-2.2.3.min.js\": \"89bArO+nlbP3sgakeHjCo1JYxYR5wufVgA3IbUvDY+K7w4zyxJqssu7wVnfeKCq8\"};\n",
       "\n",
       "    for (var i = 0; i < js_urls.length; i++) {\n",
       "      var url = js_urls[i];\n",
       "      var element = document.createElement('script');\n",
       "      element.onload = on_load;\n",
       "      element.onerror = on_error;\n",
       "      element.async = false;\n",
       "      element.src = url;\n",
       "      if (url in hashes) {\n",
       "        element.crossOrigin = \"anonymous\";\n",
       "        element.integrity = \"sha384-\" + hashes[url];\n",
       "      }\n",
       "      console.debug(\"Bokeh: injecting script tag for BokehJS library: \", url);\n",
       "      document.head.appendChild(element);\n",
       "    }\n",
       "  };\n",
       "\n",
       "  function inject_raw_css(css) {\n",
       "    const element = document.createElement(\"style\");\n",
       "    element.appendChild(document.createTextNode(css));\n",
       "    document.body.appendChild(element);\n",
       "  }\n",
       "\n",
       "  \n",
       "  var js_urls = [\"https://cdn.bokeh.org/bokeh/release/bokeh-2.2.3.min.js\", \"https://cdn.bokeh.org/bokeh/release/bokeh-widgets-2.2.3.min.js\", \"https://cdn.bokeh.org/bokeh/release/bokeh-tables-2.2.3.min.js\"];\n",
       "  var css_urls = [];\n",
       "  \n",
       "\n",
       "  var inline_js = [\n",
       "    function(Bokeh) {\n",
       "      Bokeh.set_log_level(\"info\");\n",
       "    },\n",
       "    function(Bokeh) {\n",
       "    \n",
       "    \n",
       "    }\n",
       "  ];\n",
       "\n",
       "  function run_inline_js() {\n",
       "    \n",
       "    if (root.Bokeh !== undefined || force === true) {\n",
       "      \n",
       "    for (var i = 0; i < inline_js.length; i++) {\n",
       "      inline_js[i].call(root, root.Bokeh);\n",
       "    }\n",
       "    if (force === true) {\n",
       "        display_loaded();\n",
       "      }} else if (Date.now() < root._bokeh_timeout) {\n",
       "      setTimeout(run_inline_js, 100);\n",
       "    } else if (!root._bokeh_failed_load) {\n",
       "      console.log(\"Bokeh: BokehJS failed to load within specified timeout.\");\n",
       "      root._bokeh_failed_load = true;\n",
       "    } else if (force !== true) {\n",
       "      var cell = $(document.getElementById(\"1001\")).parents('.cell').data().cell;\n",
       "      cell.output_area.append_execute_result(NB_LOAD_WARNING)\n",
       "    }\n",
       "\n",
       "  }\n",
       "\n",
       "  if (root._bokeh_is_loading === 0) {\n",
       "    console.debug(\"Bokeh: BokehJS loaded, going straight to plotting\");\n",
       "    run_inline_js();\n",
       "  } else {\n",
       "    load_libs(css_urls, js_urls, function() {\n",
       "      console.debug(\"Bokeh: BokehJS plotting callback run at\", now());\n",
       "      run_inline_js();\n",
       "    });\n",
       "  }\n",
       "}(window));"
      ],
      "application/vnd.bokehjs_load.v0+json": "\n(function(root) {\n  function now() {\n    return new Date();\n  }\n\n  var force = true;\n\n  if (typeof root._bokeh_onload_callbacks === \"undefined\" || force === true) {\n    root._bokeh_onload_callbacks = [];\n    root._bokeh_is_loading = undefined;\n  }\n\n  \n\n  \n  if (typeof (root._bokeh_timeout) === \"undefined\" || force === true) {\n    root._bokeh_timeout = Date.now() + 5000;\n    root._bokeh_failed_load = false;\n  }\n\n  var NB_LOAD_WARNING = {'data': {'text/html':\n     \"<div style='background-color: #fdd'>\\n\"+\n     \"<p>\\n\"+\n     \"BokehJS does not appear to have successfully loaded. If loading BokehJS from CDN, this \\n\"+\n     \"may be due to a slow or bad network connection. Possible fixes:\\n\"+\n     \"</p>\\n\"+\n     \"<ul>\\n\"+\n     \"<li>re-rerun `output_notebook()` to attempt to load from CDN again, or</li>\\n\"+\n     \"<li>use INLINE resources instead, as so:</li>\\n\"+\n     \"</ul>\\n\"+\n     \"<code>\\n\"+\n     \"from bokeh.resources import INLINE\\n\"+\n     \"output_notebook(resources=INLINE)\\n\"+\n     \"</code>\\n\"+\n     \"</div>\"}};\n\n  function display_loaded() {\n    var el = document.getElementById(\"1001\");\n    if (el != null) {\n      el.textContent = \"BokehJS is loading...\";\n    }\n    if (root.Bokeh !== undefined) {\n      if (el != null) {\n        el.textContent = \"BokehJS \" + root.Bokeh.version + \" successfully loaded.\";\n      }\n    } else if (Date.now() < root._bokeh_timeout) {\n      setTimeout(display_loaded, 100)\n    }\n  }\n\n\n  function run_callbacks() {\n    try {\n      root._bokeh_onload_callbacks.forEach(function(callback) {\n        if (callback != null)\n          callback();\n      });\n    } finally {\n      delete root._bokeh_onload_callbacks\n    }\n    console.debug(\"Bokeh: all callbacks have finished\");\n  }\n\n  function load_libs(css_urls, js_urls, callback) {\n    if (css_urls == null) css_urls = [];\n    if (js_urls == null) js_urls = [];\n\n    root._bokeh_onload_callbacks.push(callback);\n    if (root._bokeh_is_loading > 0) {\n      console.debug(\"Bokeh: BokehJS is being loaded, scheduling callback at\", now());\n      return null;\n    }\n    if (js_urls == null || js_urls.length === 0) {\n      run_callbacks();\n      return null;\n    }\n    console.debug(\"Bokeh: BokehJS not loaded, scheduling load and callback at\", now());\n    root._bokeh_is_loading = css_urls.length + js_urls.length;\n\n    function on_load() {\n      root._bokeh_is_loading--;\n      if (root._bokeh_is_loading === 0) {\n        console.debug(\"Bokeh: all BokehJS libraries/stylesheets loaded\");\n        run_callbacks()\n      }\n    }\n\n    function on_error() {\n      console.error(\"failed to load \" + url);\n    }\n\n    for (var i = 0; i < css_urls.length; i++) {\n      var url = css_urls[i];\n      const element = document.createElement(\"link\");\n      element.onload = on_load;\n      element.onerror = on_error;\n      element.rel = \"stylesheet\";\n      element.type = \"text/css\";\n      element.href = url;\n      console.debug(\"Bokeh: injecting link tag for BokehJS stylesheet: \", url);\n      document.body.appendChild(element);\n    }\n\n    const hashes = {\"https://cdn.bokeh.org/bokeh/release/bokeh-2.2.3.min.js\": \"T2yuo9Oe71Cz/I4X9Ac5+gpEa5a8PpJCDlqKYO0CfAuEszu1JrXLl8YugMqYe3sM\", \"https://cdn.bokeh.org/bokeh/release/bokeh-widgets-2.2.3.min.js\": \"98GDGJ0kOMCUMUePhksaQ/GYgB3+NH9h996V88sh3aOiUNX3N+fLXAtry6xctSZ6\", \"https://cdn.bokeh.org/bokeh/release/bokeh-tables-2.2.3.min.js\": \"89bArO+nlbP3sgakeHjCo1JYxYR5wufVgA3IbUvDY+K7w4zyxJqssu7wVnfeKCq8\"};\n\n    for (var i = 0; i < js_urls.length; i++) {\n      var url = js_urls[i];\n      var element = document.createElement('script');\n      element.onload = on_load;\n      element.onerror = on_error;\n      element.async = false;\n      element.src = url;\n      if (url in hashes) {\n        element.crossOrigin = \"anonymous\";\n        element.integrity = \"sha384-\" + hashes[url];\n      }\n      console.debug(\"Bokeh: injecting script tag for BokehJS library: \", url);\n      document.head.appendChild(element);\n    }\n  };\n\n  function inject_raw_css(css) {\n    const element = document.createElement(\"style\");\n    element.appendChild(document.createTextNode(css));\n    document.body.appendChild(element);\n  }\n\n  \n  var js_urls = [\"https://cdn.bokeh.org/bokeh/release/bokeh-2.2.3.min.js\", \"https://cdn.bokeh.org/bokeh/release/bokeh-widgets-2.2.3.min.js\", \"https://cdn.bokeh.org/bokeh/release/bokeh-tables-2.2.3.min.js\"];\n  var css_urls = [];\n  \n\n  var inline_js = [\n    function(Bokeh) {\n      Bokeh.set_log_level(\"info\");\n    },\n    function(Bokeh) {\n    \n    \n    }\n  ];\n\n  function run_inline_js() {\n    \n    if (root.Bokeh !== undefined || force === true) {\n      \n    for (var i = 0; i < inline_js.length; i++) {\n      inline_js[i].call(root, root.Bokeh);\n    }\n    if (force === true) {\n        display_loaded();\n      }} else if (Date.now() < root._bokeh_timeout) {\n      setTimeout(run_inline_js, 100);\n    } else if (!root._bokeh_failed_load) {\n      console.log(\"Bokeh: BokehJS failed to load within specified timeout.\");\n      root._bokeh_failed_load = true;\n    } else if (force !== true) {\n      var cell = $(document.getElementById(\"1001\")).parents('.cell').data().cell;\n      cell.output_area.append_execute_result(NB_LOAD_WARNING)\n    }\n\n  }\n\n  if (root._bokeh_is_loading === 0) {\n    console.debug(\"Bokeh: BokehJS loaded, going straight to plotting\");\n    run_inline_js();\n  } else {\n    load_libs(css_urls, js_urls, function() {\n      console.debug(\"Bokeh: BokehJS plotting callback run at\", now());\n      run_inline_js();\n    });\n  }\n}(window));"
     },
     "metadata": {},
     "output_type": "display_data"
    }
   ],
   "source": [
    "hb.use_notebook()"
   ]
  },
  {
   "cell_type": "code",
   "execution_count": 4,
   "metadata": {},
   "outputs": [
    {
     "name": "stdout",
     "output_type": "stream",
     "text": [
      "Downloading URL (https://do...output=csv)\n"
     ]
    },
    {
     "name": "stderr",
     "output_type": "stream",
     "text": [
      "Generating graph nodes from df_nodes: 100%|██████████| 27/27 [00:00<00:00, 53671.19it/s]\n",
      "Generating graph edges from df_edges: 100%|██████████| 39/39 [00:00<00:00, 197557.80it/s]"
     ]
    },
    {
     "name": "stdout",
     "output_type": "stream",
     "text": [
      "Generated graph: 27 nodes, 33 edges\n"
     ]
    },
    {
     "name": "stderr",
     "output_type": "stream",
     "text": [
      "\n"
     ]
    }
   ],
   "source": [
    "hbgraph = hb.Hairball(URL_EMMA)"
   ]
  },
  {
   "cell_type": "code",
   "execution_count": 5,
   "metadata": {},
   "outputs": [
    {
     "name": "stderr",
     "output_type": "stream",
     "text": [
      "Generating graph nodes from df_nodes: 100%|██████████| 27/27 [00:00<00:00, 157068.25it/s]\n",
      "Generating graph edges from df_edges: 100%|██████████| 39/39 [00:00<00:00, 210254.31it/s]"
     ]
    },
    {
     "name": "stdout",
     "output_type": "stream",
     "text": [
      "Generated graph: 27 nodes, 33 edges\n"
     ]
    },
    {
     "name": "stderr",
     "output_type": "stream",
     "text": [
      "\n"
     ]
    }
   ],
   "source": [
    "hbgraph.gen_stats()"
   ]
  },
  {
   "cell_type": "code",
   "execution_count": 6,
   "metadata": {},
   "outputs": [
    {
     "data": {
      "text/html": [
       "\n",
       "\n",
       "\n",
       "\n",
       "\n",
       "\n",
       "  <div class=\"bk-root\" id=\"fc5d9ebf-b835-49b9-95a9-75545afa01c2\" data-root-id=\"1004\"></div>\n"
      ]
     },
     "metadata": {},
     "output_type": "display_data"
    },
    {
     "data": {
      "application/javascript": [
       "(function(root) {\n",
       "  function embed_document(root) {\n",
       "    \n",
       "  var docs_json = {\"465b1dc3-23ce-4398-9ad7-7ab766ddee59\":{\"roots\":{\"references\":[{\"attributes\":{\"below\":[{\"id\":\"1013\"}],\"center\":[{\"id\":\"1016\"},{\"id\":\"1020\"}],\"left\":[{\"id\":\"1017\"}],\"renderers\":[{\"id\":\"1034\"},{\"id\":\"1055\"}],\"title\":{\"id\":\"1005\"},\"toolbar\":{\"id\":\"1027\"},\"x_range\":{\"id\":\"1002\"},\"x_scale\":{\"id\":\"1009\"},\"y_range\":{\"id\":\"1003\"},\"y_scale\":{\"id\":\"1011\"}},\"id\":\"1004\",\"subtype\":\"Figure\",\"type\":\"Plot\"},{\"attributes\":{},\"id\":\"1077\",\"type\":\"Selection\"},{\"attributes\":{},\"id\":\"1011\",\"type\":\"LinearScale\"},{\"attributes\":{\"data_source\":{\"id\":\"1036\"},\"glyph\":{\"id\":\"1044\"},\"hover_glyph\":null,\"muted_glyph\":null,\"view\":{\"id\":\"1038\"}},\"id\":\"1037\",\"type\":\"GlyphRenderer\"},{\"attributes\":{},\"id\":\"1071\",\"type\":\"BasicTickFormatter\"},{\"attributes\":{},\"id\":\"1014\",\"type\":\"BasicTicker\"},{\"attributes\":{},\"id\":\"1074\",\"type\":\"UnionRenderers\"},{\"attributes\":{},\"id\":\"1075\",\"type\":\"Selection\"},{\"attributes\":{\"axis\":{\"id\":\"1013\"},\"ticker\":null},\"id\":\"1016\",\"type\":\"Grid\"},{\"attributes\":{},\"id\":\"1076\",\"type\":\"UnionRenderers\"},{\"attributes\":{\"axis\":{\"id\":\"1017\"},\"dimension\":1,\"ticker\":null},\"id\":\"1020\",\"type\":\"Grid\"},{\"attributes\":{\"formatter\":{\"id\":\"1069\"},\"ticker\":{\"id\":\"1018\"}},\"id\":\"1017\",\"type\":\"LinearAxis\"},{\"attributes\":{\"end\":10.1,\"start\":-10.1},\"id\":\"1003\",\"type\":\"Range1d\"},{\"attributes\":{},\"id\":\"1073\",\"type\":\"Selection\"},{\"attributes\":{\"text\":\"Networkx Graph\"},\"id\":\"1005\",\"type\":\"Title\"},{\"attributes\":{\"line_alpha\":{\"value\":0.5}},\"id\":\"1049\",\"type\":\"MultiLine\"},{\"attributes\":{},\"id\":\"1062\",\"type\":\"NodesOnly\"},{\"attributes\":{},\"id\":\"1067\",\"type\":\"NodesOnly\"},{\"attributes\":{\"edge_renderer\":{\"id\":\"1041\"},\"inspection_policy\":{\"id\":\"1067\"},\"layout_provider\":{\"id\":\"1043\"},\"node_renderer\":{\"id\":\"1037\"},\"selection_policy\":{\"id\":\"1062\"}},\"id\":\"1034\",\"type\":\"GraphRenderer\"},{\"attributes\":{\"source\":{\"id\":\"1036\"}},\"id\":\"1038\",\"type\":\"CDSView\"},{\"attributes\":{\"fill_color\":{\"field\":\"Gender\"},\"size\":{\"field\":\"_size\",\"units\":\"screen\"}},\"id\":\"1044\",\"type\":\"Circle\"},{\"attributes\":{\"callback\":null,\"tooltips\":[[\"ID\",\"@index\"]]},\"id\":\"1026\",\"type\":\"HoverTool\"},{\"attributes\":{\"active_drag\":\"auto\",\"active_inspect\":\"auto\",\"active_multi\":null,\"active_scroll\":\"auto\",\"active_tap\":\"auto\",\"tools\":[{\"id\":\"1021\"},{\"id\":\"1022\"},{\"id\":\"1023\"},{\"id\":\"1024\"},{\"id\":\"1025\"},{\"id\":\"1026\"}]},\"id\":\"1027\",\"type\":\"Toolbar\"},{\"attributes\":{},\"id\":\"1021\",\"type\":\"PanTool\"},{\"attributes\":{},\"id\":\"1022\",\"type\":\"WheelZoomTool\"},{\"attributes\":{\"graph_layout\":{\"Colonel Campbell\":[7.946659308046189,3.185677439150567],\"Elizabeth Martin\":[-8.499491968931126,-2.6149664027415547],\"Emma\":[-2.4086229801376633,-4.14575818990527],\"Frank\":[1.6748381500915908,4.9016475094930225],\"Harriet\":[-8.877056343676243,-1.535795951901764],\"Isabella\":[-1.7982243452519722,-5.48347315223676],\"Jane\":[5.396867808477847,3.5260635051900984],\"John Knightley\":[-3.9425845294710595,-6.185280127949959],\"Knightley\":[-5.155057444630519,-4.721747404372904],\"Miss Bates\":[5.915028775447182,2.094315769936307],\"Mr. Churchill\":[0.9377893007481835,7.019735419222207],\"Mr. Cole\":[-4.127154577715019,5.46757000400624],\"Mr. Dixon\":[10.0,0.3374732093066377],\"Mr. Elton\":[-2.24027268849534,-7.492244572812897],\"Mr. Martin\":[-7.669487230487184,-3.592090780277269],\"Mr. Perry\":[2.7036121445211623,-2.654841154029643],\"Mr. Weston\":[-1.6970140981719648,3.395773751274805],\"Mr. Woodhouse\":[0.07980911209276477,-4.167512895225607],\"Mrs. Bates\":[7.1665128160803375,4.393522247887732],\"Mrs. Campbell\":[9.705908985873805,2.5730435276428874],\"Mrs. Churchill\":[2.0089927210076386,7.140818943502978],\"Mrs. Cole\":[-5.992133477128635,7.022689468351188],\"Mrs. Dixon\":[8.146707470818658,1.9323976009810424],\"Mrs. Elton\":[-2.1804055823141395,-9.926222713814825],\"Mrs. Goddard\":[-9.514040137100071,0.32801325643750395],\"Mrs. Perry\":[4.645618643918906,-0.5012625071713435],\"Mrs. Weston\":[-2.226799833613323,-0.2975457999434319]}},\"id\":\"1043\",\"type\":\"StaticLayoutProvider\"},{\"attributes\":{},\"id\":\"1023\",\"type\":\"SaveTool\"},{\"attributes\":{},\"id\":\"1069\",\"type\":\"BasicTickFormatter\"},{\"attributes\":{},\"id\":\"1072\",\"type\":\"UnionRenderers\"},{\"attributes\":{\"data_source\":{\"id\":\"1040\"},\"glyph\":{\"id\":\"1049\"},\"hover_glyph\":null,\"muted_glyph\":null,\"view\":{\"id\":\"1042\"}},\"id\":\"1041\",\"type\":\"GlyphRenderer\"},{\"attributes\":{},\"id\":\"1024\",\"type\":\"ResetTool\"},{\"attributes\":{\"data\":{\"end\":[\"Knightley\",\"Mr. Woodhouse\",\"Isabella\",\"Mrs. Weston\",\"Mr. Elton\",\"Isabella\",\"Mr. Perry\",\"Mr. Martin\",\"Elizabeth Martin\",\"Mrs. Goddard\",\"John Knightley\",\"Mr. Martin\",\"Isabella\",\"Frank\",\"Mrs. Weston\",\"Mr. Cole\",\"Jane\",\"Mr. Churchill\",\"Mrs. Churchill\",\"Mrs. Churchill\",\"Mrs. Elton\",\"Elizabeth Martin\",\"Jane\",\"Mrs. Bates\",\"Mrs. Perry\",\"Colonel Campbell\",\"Mrs. Dixon\",\"Mrs. Perry\",\"Mrs. Cole\",\"Mrs. Campbell\",\"Mrs. Dixon\",\"Mrs. Dixon\",\"Mr. Dixon\"],\"index\":[4,1,7,11,18,2,29,20,23,27,6,21,8,9,12,31,26,15,17,16,19,22,24,25,30,33,37,28,32,34,35,36,38],\"reltype\":[\"husband of\",\"father of\",\"sister of\",\"governess of\",\"suitor of\",\"father of\",\"friend of\",\"suitor of\",\"friend of\",\"guardian of\",\"brother of\",\"tenant of\",\"wife of\",\"father of\",\"wife of\",\"acqaintance of\",\"wife of\",\"guardian of\",\"guardian of\",\"wife of\",\"wife of\",\"sister of\",\"aunt of\",\"mother of\",\"teapartner of\",\"guardian of\",\"friend of\",\"husband of\",\"wife of\",\"wife of\",\"daughter of\",\"daughter of\",\"husband of\"],\"source\":[\"Knightley\",\"Mr. Woodhouse\",\"Isabella\",\"Mrs. Weston\",\"Mr. Elton\",\"Mr. Woodhouse\",\"Mr. Perry\",\"Mr. Martin\",\"Elizabeth Martin\",\"Mrs. Goddard\",\"John Knightley\",\"Mr. Martin\",\"Isabella\",\"Mr. Weston\",\"Mrs. Weston\",\"Mr. Cole\",\"Jane\",\"Mr. Churchill\",\"Mrs. Churchill\",\"Mrs. Churchill\",\"Mrs. Elton\",\"Elizabeth Martin\",\"Miss Bates\",\"Mrs. Bates\",\"Mrs. Perry\",\"Colonel Campbell\",\"Mrs. Dixon\",\"Mr. Perry\",\"Mrs. Cole\",\"Mrs. Campbell\",\"Mrs. Dixon\",\"Mrs. Dixon\",\"Mr. Dixon\"],\"start\":[\"Emma\",\"Emma\",\"Emma\",\"Emma\",\"Emma\",\"Mr. Woodhouse\",\"Mr. Woodhouse\",\"Harriet\",\"Harriet\",\"Harriet\",\"Knightley\",\"Knightley\",\"John Knightley\",\"Mr. Weston\",\"Mr. Weston\",\"Mr. Weston\",\"Frank\",\"Frank\",\"Frank\",\"Mr. Churchill\",\"Mr. Elton\",\"Mr. Martin\",\"Miss Bates\",\"Miss Bates\",\"Miss Bates\",\"Jane\",\"Jane\",\"Mr. Perry\",\"Mr. Cole\",\"Colonel Campbell\",\"Colonel Campbell\",\"Mrs. Campbell\",\"Mrs. Dixon\"],\"target\":[\"Emma\",\"Emma\",\"Emma\",\"Emma\",\"Emma\",\"Isabella\",\"Mr. Woodhouse\",\"Harriet\",\"Harriet\",\"Harriet\",\"Knightley\",\"Knightley\",\"John Knightley\",\"Frank\",\"Mr. Weston\",\"Mr. Weston\",\"Frank\",\"Frank\",\"Frank\",\"Mr. Churchill\",\"Mr. Elton\",\"Mr. Martin\",\"Jane\",\"Miss Bates\",\"Miss Bates\",\"Jane\",\"Jane\",\"Mrs. Perry\",\"Mr. Cole\",\"Colonel Campbell\",\"Colonel Campbell\",\"Mrs. Campbell\",\"Mrs. Dixon\"]},\"selected\":{\"id\":\"1077\"},\"selection_policy\":{\"id\":\"1076\"}},\"id\":\"1040\",\"type\":\"ColumnDataSource\"},{\"attributes\":{\"formatter\":{\"id\":\"1071\"},\"ticker\":{\"id\":\"1014\"}},\"id\":\"1013\",\"type\":\"LinearAxis\"},{\"attributes\":{\"empty_value\":null},\"id\":\"1025\",\"type\":\"PointDrawTool\"},{\"attributes\":{\"end\":10.1,\"start\":-10.1},\"id\":\"1002\",\"type\":\"Range1d\"},{\"attributes\":{},\"id\":\"1018\",\"type\":\"BasicTicker\"},{\"attributes\":{},\"id\":\"1009\",\"type\":\"LinearScale\"},{\"attributes\":{\"data\":{\"name\":[\"Emma\",\"Mr. Woodhouse\",\"Harriet\",\"Knightley\",\"John Knightley\",\"Isabella\",\"Mr. Weston\",\"Mrs. Weston\",\"Frank\",\"Mr. Churchill\",\"Mrs. Churchill\",\"Mr. Elton\",\"Mrs. Elton\",\"Mr. Martin\",\"Elizabeth Martin\",\"Miss Bates\",\"Mrs. Bates\",\"Jane\",\"Mrs. Goddard\",\"Mr. Perry\",\"Mrs. Perry\",\"Mr. Cole\",\"Mrs. Cole\",\"Colonel Campbell\",\"Mrs. Campbell\",\"Mrs. Dixon\",\"Mr. Dixon\"],\"x\":[-2.4086229801376633,0.07980911209276477,-8.877056343676243,-5.155057444630519,-3.9425845294710595,-1.7982243452519722,-1.6970140981719648,-2.226799833613323,1.6748381500915908,0.9377893007481835,2.0089927210076386,-2.24027268849534,-2.1804055823141395,-7.669487230487184,-8.499491968931126,5.915028775447182,7.1665128160803375,5.396867808477847,-9.514040137100071,2.7036121445211623,4.645618643918906,-4.127154577715019,-5.992133477128635,7.946659308046189,9.705908985873805,8.146707470818658,10.0],\"y\":[-4.14575818990527,-4.167512895225607,-1.535795951901764,-4.721747404372904,-6.185280127949959,-5.48347315223676,3.395773751274805,-0.2975457999434319,4.9016475094930225,7.019735419222207,7.140818943502978,-7.492244572812897,-9.926222713814825,-3.592090780277269,-2.6149664027415547,2.094315769936307,4.393522247887732,3.5260635051900984,0.32801325643750395,-2.654841154029643,-0.5012625071713435,5.46757000400624,7.022689468351188,3.185677439150567,2.5730435276428874,1.9323976009810424,0.3374732093066377]},\"selected\":{\"id\":\"1073\"},\"selection_policy\":{\"id\":\"1072\"}},\"id\":\"1054\",\"type\":\"ColumnDataSource\"},{\"attributes\":{\"data\":{\"Gender\":[\"F\",\"M\",\"F\",\"M\",\"M\",\"F\",\"M\",\"F\",\"M\",\"M\",\"F\",\"M\",\"F\",\"M\",\"F\",\"F\",\"F\",\"F\",\"F\",\"M\",\"F\",\"M\",\"F\",\"M\",\"F\",\"F\",\"M\"],\"Household\":[\"Mr. Woodhouse\",\"Mr. Woodhouse\",\"Mrs. Goddard\",\"Knightley\",\"John Knightley\",\"John Knightley\",\"Mr. Weston\",\"Mr. Weston\",\"Mr. Churchill\",\"Mr. Churchill\",\"Mr. Churchill\",\"Mr. Elton\",\"Mr. Elton\",\"Mr. Martin\",\"Mr. Martin\",\"Miss Bates\",\"Miss Bates\",\"Miss Bates\",\"Mrs. Goddard\",\"Mr. Perry\",\"Mr. Perry\",\"Mr. Cole\",\"Mr. Cole\",\"Colonel Campbell\",\"Colonel Campbell\",\"Mr. Dixon\",\"Mr. Dixon\"],\"Names\":[\"Emma, Emma Woodhouse, Miss Woodhouse\",\"Mr. Woodhouse, Henry Woodhouse\",\"Harriet, Harriet Smith, Miss Smith\",\"Mr. Knightley, George Knightley\",\"Mr. John Knightley, John Knightley, John\",\"Isabella, Isabella Woodhouse, Isabella Woodhouse Knightley, Isabella Knightley\",\"Mr. Weston, Captain Weston\",\"Mrs. Weston, Anne Taylor Weston\",\"Frank Churchill, Frank, Mr. Frank Churchill\",\"Mr. Churchill\",\"Mrs. Churchill\",\"Mr. Elton, Elton, Philip Elton, Mr. E\",\"Augusta, Augusta Elton\",\"Robert Martin, Mr. Martin\",\"Elizabeth Martin\",\"Miss Bates, Hetty Bates, Hetty\",\"Mrs. Bates\",\"Jane, Jane Fairfax, Miss Jane Fairfax, Miss Fairfax\",\"Mrs. Goddard\",\"Mr. Perry\",\"Mrs. Perry\",\"Mr. Cole\",\"Mrs. Cole\",\"Colonel Campbell, Campbell\",\"Mrs. Campbell\",\"Mrs. Dixon\",\"Mr. Dixon\"],\"Occupation\":[\"None\",\"None\",\"Student\",\"NaN\",\"NaN\",\"NaN\",\"NaN\",\"NaN\",\"NaN\",\"NaN\",\"NaN\",\"Vicar\",\"NaN\",\"NaN\",\"NaN\",\"NaN\",\"NaN\",\"NaN\",\"Teacher\",\"Apothecary\",\"NaN\",\"Tradesman --> Gentleman\",\"NaN\",\"NaN\",\"NaN\",\"NaN\",\"NaN\"],\"Parents\":[\"NaN\",\"NaN\",\"NaN\",\"NaN\",\"NaN\",\"NaN\",\"NaN\",\"NaN\",\"NaN\",\"NaN\",\"NaN\",\"NaN\",\"NaN\",\"NaN\",\"NaN\",\"NaN\",\"NaN\",\"NaN\",\"NaN\",\"NaN\",\"NaN\",\"NaN\",\"NaN\",\"NaN\",\"NaN\",\"NaN\",\"NaN\"],\"Rank\":[\"Gentlewoman\",\"Gentleman\",\"NaN\",\"Gentleman\",\"NaN\",\"NaN\",\"fffffff\",\"NaN\",\"NaN\",\"NaN\",\"NaN\",\"NaN\",\"NaN\",\"NaN\",\"NaN\",\"NaN\",\"NaN\",\"NaN\",\"NaN\",\"NaN\",\"NaN\",\"NaN\",\"NaN\",\"NaN\",\"NaN\",\"NaN\",\"NaN\"],\"Relations\":[\"(daughter of) Mr. Woodhouse --> (wife of) Knightley\",\"(father of) Emma; (father of) Isabella\",\"(friend of) Emma --> (wife of) Mr. Martin\",\"(suitor of) Emma --> (husband of) Emma\",\"(husband of) Isabella; (brother of) Knightley\",\"(sister of) Emma; (wife of) John Knightley\",\"(father of) Frank; (husband of) Mrs. Weston\",\"(governess of) Emma; (wife of) Mr. Weston\",\"--> (husband of) Jane \",\"(uncle of) Frank; (guardian of) Frank\",\"(wife of) Mr. Churchill; (guardian of) Frank\",\"(suitor of) Emma\",\"--> (wife of) Mr. Elton\",\"(suitor of) Harriet; (tenant of) Knightley\",\"(sister of) Mr. Martin; (friend of) Harriet\",\"(aunt of) Jane\",\"(mother of) Miss Bates\",\"(niece of) Miss Bates --> (wife of) Frank\",\"(guardian of) Harriet\",\"(husband of) Mrs. Perry; (friend of) Mr. Woodhouse\",\"(teapartner of) Miss Bates\",\"(acqaintance of) Mr. Weston;\",\"(wife of) Mr. Cole\",\"(guardian of) Jane\",\"(wife of) Colonel Campbell\",\"(daughter of) Colonel Campbell; (daughter of) Mrs. Campbell; (friend of) Jane\",\"(husband of) Mrs. Dixon\"],\"Reputation\":[\"NaN\",\"NaN\",\"NaN\",\"NaN\",\"NaN\",\"NaN\",\"NaN\",\"NaN\",\"NaN\",\"NaN\",\"NaN\",\"NaN\",\"NaN\",\"NaN\",\"NaN\",\"NaN\",\"NaN\",\"NaN\",\"NaN\",\"NaN\",\"NaN\",\"NaN\",\"(wife of) Mr. Cole\",\"NaN\",\"NaN\",\"NaN\",\"NaN\"],\"Residence\":[\"Highbury\",\"Highbury\",\"Highbury\",\"Highbury\",\"NaN\",\"NaN\",\"Highbury\",\"Highbury\",\"NaN\",\"NaN\",\"NaN\",\"Highbury\",\"Highbury\",\"Highbury\",\"Highbury\",\"Highbury\",\"Highbury\",\"Highbury\",\"Highbury\",\"Highbury\",\"Highbury\",\"Highbury\",\"Highbury\",\"NaN\",\"NaN\",\"NaN\",\"NaN\"],\"Residence2\":[\"NaN\",\"NaN\",\"NaN\",\"NaN\",\"NaN\",\"NaN\",\"NaN\",\"NaN\",\"NaN\",\"NaN\",\"NaN\",\"NaN\",\"NaN\",\"NaN\",\"NaN\",\"NaN\",\"NaN\",\"NaN\",\"NaN\",\"NaN\",\"NaN\",\"NaN\",\"NaN\",\"NaN\",\"NaN\",\"NaN\",\"NaN\"],\"Wealth\":[\"\\u00a330,000\",\"NaN\",\"NaN\",\"NaN\",\"NaN\",\"NaN\",\"NaN\",\"NaN\",\"NaN\",\"NaN\",\"NaN\",\"NaN\",\"NaN\",\"NaN\",\"NaN\",\"NaN\",\"NaN\",\"NaN\",\"NaN\",\"NaN\",\"NaN\",\"NaN\",\"NaN\",\"NaN\",\"NaN\",\"NaN\",\"NaN\"],\"_size\":[35.0,20.0,20.0,20.0,12.5,20.0,20.0,12.5,27.5,12.5,12.5,12.5,5.0,20.0,12.5,20.0,5.0,27.5,5.0,12.5,12.5,12.5,5.0,20.0,12.5,27.5,5.0],\"betweenness_centrality\":[0.514871794871795,0.15128205128205124,0.07692307692307693,0.29128205128205137,0.007692307692307693,0.04102564102564104,0.42102564102564105,0.3533333333333333,0.38410256410256405,0.0,0.0,0.07692307692307693,0.0,0.2123076923076923,0.0,0.16358974358974357,0.0,0.3415384615384615,0.0,0.1328205128205128,0.12666666666666665,0.07692307692307693,0.0,0.03538461538461538,0.0,0.1123076923076923,0.0],\"degree\":[5,3,3,3,2,3,3,2,4,2,2,2,1,3,2,3,1,4,1,2,2,2,1,3,2,4,1],\"id\":[\"Emma\",\"Mr. Woodhouse\",\"Harriet\",\"Knightley\",\"John Knightley\",\"Isabella\",\"Mr. Weston\",\"Mrs. Weston\",\"Frank\",\"Mr. Churchill\",\"Mrs. Churchill\",\"Mr. Elton\",\"Mrs. Elton\",\"Mr. Martin\",\"Elizabeth Martin\",\"Miss Bates\",\"Mrs. Bates\",\"Jane\",\"Mrs. Goddard\",\"Mr. Perry\",\"Mrs. Perry\",\"Mr. Cole\",\"Mrs. Cole\",\"Colonel Campbell\",\"Mrs. Campbell\",\"Mrs. Dixon\",\"Mr. Dixon\"],\"index\":[\"Emma\",\"Mr. Woodhouse\",\"Harriet\",\"Knightley\",\"John Knightley\",\"Isabella\",\"Mr. Weston\",\"Mrs. Weston\",\"Frank\",\"Mr. Churchill\",\"Mrs. Churchill\",\"Mr. Elton\",\"Mrs. Elton\",\"Mr. Martin\",\"Elizabeth Martin\",\"Miss Bates\",\"Mrs. Bates\",\"Jane\",\"Mrs. Goddard\",\"Mr. Perry\",\"Mrs. Perry\",\"Mr. Cole\",\"Mrs. Cole\",\"Colonel Campbell\",\"Mrs. Campbell\",\"Mrs. Dixon\",\"Mr. Dixon\"]},\"selected\":{\"id\":\"1075\"},\"selection_policy\":{\"id\":\"1074\"}},\"id\":\"1036\",\"type\":\"ColumnDataSource\"},{\"attributes\":{\"source\":{\"id\":\"1040\"}},\"id\":\"1042\",\"type\":\"CDSView\"},{\"attributes\":{\"background_fill_alpha\":{\"value\":0.7},\"background_fill_color\":{\"value\":\"white\"},\"source\":{\"id\":\"1054\"},\"text\":{\"field\":\"name\"},\"text_font_size\":{\"value\":\"10px\"},\"x\":{\"field\":\"x\"},\"y\":{\"field\":\"y\"}},\"id\":\"1055\",\"type\":\"LabelSet\"}],\"root_ids\":[\"1004\"]},\"title\":\"Bokeh Application\",\"version\":\"2.2.3\"}};\n",
       "  var render_items = [{\"docid\":\"465b1dc3-23ce-4398-9ad7-7ab766ddee59\",\"root_ids\":[\"1004\"],\"roots\":{\"1004\":\"fc5d9ebf-b835-49b9-95a9-75545afa01c2\"}}];\n",
       "  root.Bokeh.embed.embed_items_notebook(docs_json, render_items);\n",
       "\n",
       "  }\n",
       "  if (root.Bokeh !== undefined) {\n",
       "    embed_document(root);\n",
       "  } else {\n",
       "    var attempts = 0;\n",
       "    var timer = setInterval(function(root) {\n",
       "      if (root.Bokeh !== undefined) {\n",
       "        clearInterval(timer);\n",
       "        embed_document(root);\n",
       "      } else {\n",
       "        attempts++;\n",
       "        if (attempts > 100) {\n",
       "          clearInterval(timer);\n",
       "          console.log(\"Bokeh: ERROR: Unable to run BokehJS code because BokehJS library is missing\");\n",
       "        }\n",
       "      }\n",
       "    }, 10, root)\n",
       "  }\n",
       "})(window);"
      ],
      "application/vnd.bokehjs_exec.v0+json": ""
     },
     "metadata": {
      "application/vnd.bokehjs_exec.v0+json": {
       "id": "1004"
      }
     },
     "output_type": "display_data"
    }
   ],
   "source": [
    "hbgraph.draw_bokeh(size_by='degree',color_by='Gender')"
   ]
  },
  {
   "cell_type": "markdown",
   "metadata": {},
   "source": [
    "## Parsing?"
   ]
  },
  {
   "cell_type": "code",
   "execution_count": null,
   "metadata": {},
   "outputs": [],
   "source": []
  }
 ],
 "metadata": {
  "kernelspec": {
   "display_name": "Python 3",
   "language": "python",
   "name": "python3"
  },
  "language_info": {
   "codemirror_mode": {
    "name": "ipython",
    "version": 3
   },
   "file_extension": ".py",
   "mimetype": "text/x-python",
   "name": "python",
   "nbconvert_exporter": "python",
   "pygments_lexer": "ipython3",
   "version": "3.7.7"
  },
  "widgets": {
   "application/vnd.jupyter.widget-state+json": {
    "state": {},
    "version_major": 2,
    "version_minor": 0
   }
  }
 },
 "nbformat": 4,
 "nbformat_minor": 4
}