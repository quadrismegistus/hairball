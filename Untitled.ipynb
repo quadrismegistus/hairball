{
 "cells": [
  {
   "cell_type": "markdown",
   "metadata": {},
   "source": [
    "# Parsing"
   ]
  },
  {
   "cell_type": "code",
   "execution_count": 1,
   "metadata": {},
   "outputs": [],
   "source": [
    "from tqdm import tqdm\n",
    "import lltk\n",
    "C=lltk.load('CanonFiction')"
   ]
  },
  {
   "cell_type": "code",
   "execution_count": 2,
   "metadata": {},
   "outputs": [
    {
     "data": {
      "text/plain": [
       "<canon_fiction.TextCanonFiction at 0x7f9e99099190>"
      ]
     },
     "execution_count": 2,
     "metadata": {},
     "output_type": "execute_result"
    }
   ],
   "source": [
    "emma_id=C.metadata[C.metadata.id.str.contains('Austen.Emma')].id.iloc[0]\n",
    "emma = C.textd[emma_id]\n",
    "emma"
   ]
  },
  {
   "cell_type": "code",
   "execution_count": 3,
   "metadata": {},
   "outputs": [
    {
     "data": {
      "text/plain": [
       "<canon_fiction.TextCanonFiction at 0x7f9e991a8410>"
      ]
     },
     "execution_count": 3,
     "metadata": {},
     "output_type": "execute_result"
    }
   ],
   "source": [
    "bleakid=C.metadata[C.metadata.id.str.contains('Dickens.Bleak')].id.iloc[0]\n",
    "bleak = C.textd[bleakid]\n",
    "bleak"
   ]
  },
  {
   "cell_type": "code",
   "execution_count": null,
   "metadata": {},
   "outputs": [],
   "source": []
  },
  {
   "cell_type": "code",
   "execution_count": null,
   "metadata": {},
   "outputs": [],
   "source": []
  },
  {
   "cell_type": "code",
   "execution_count": 4,
   "metadata": {},
   "outputs": [],
   "source": [
    "# import stanza\n",
    "# stanza.download('en') # download English model"
   ]
  },
  {
   "cell_type": "code",
   "execution_count": 5,
   "metadata": {},
   "outputs": [],
   "source": [
    "# nlp = stanza.Pipeline('en') # initialize English neural pipeline"
   ]
  },
  {
   "cell_type": "code",
   "execution_count": 6,
   "metadata": {},
   "outputs": [],
   "source": [
    "# doc = nlp(\"Barack Obama was born in Hawaii.\") # run annotation over a sentence"
   ]
  },
  {
   "cell_type": "code",
   "execution_count": 7,
   "metadata": {},
   "outputs": [],
   "source": [
    "paras = bleak.txt.replace('--',' -- ').split('\\n\\n')"
   ]
  },
  {
   "cell_type": "code",
   "execution_count": 8,
   "metadata": {},
   "outputs": [],
   "source": [
    "# paradocs = [nlp(para) for para in tqdm(paras[:1000])]"
   ]
  },
  {
   "cell_type": "code",
   "execution_count": 9,
   "metadata": {},
   "outputs": [],
   "source": [
    "# for pi,pdoc in enumerate(paradocs):\n",
    "#     for entd in pdoc.entities:\n",
    "#         if entd.type=='PERSON':\n",
    "#             print(pi,entd.text)"
   ]
  },
  {
   "cell_type": "code",
   "execution_count": null,
   "metadata": {},
   "outputs": [],
   "source": []
  },
  {
   "cell_type": "code",
   "execution_count": 10,
   "metadata": {},
   "outputs": [],
   "source": [
    "# !pip install spacy"
   ]
  },
  {
   "cell_type": "code",
   "execution_count": 11,
   "metadata": {},
   "outputs": [],
   "source": [
    "# !python -m spacy download en_core_web_md"
   ]
  },
  {
   "cell_type": "code",
   "execution_count": 12,
   "metadata": {},
   "outputs": [],
   "source": [
    "# !pip install dateparser"
   ]
  },
  {
   "cell_type": "code",
   "execution_count": 13,
   "metadata": {},
   "outputs": [],
   "source": [
    "TITLES = {\n",
    "    \"Dr\", \"Dr.\",\n",
    "    \"Mr\", \"Mr.\",\n",
    "    \"Ms\", \"Ms.\",\n",
    "    \"Miss\",\n",
    "    \"Master\", \"Mistress\",\n",
    "    \"Sir\",\"Lady\",\n",
    "    \"Duke\",\"Baron\",\"Count\",\n",
    "    \"Prince\",\"Princess\",\"King\",\"Queen\",\n",
    "    \"Bishop\",\"Father\",\"Mother\"\n",
    "}"
   ]
  },
  {
   "cell_type": "code",
   "execution_count": 14,
   "metadata": {},
   "outputs": [],
   "source": [
    "import spacy\n",
    "nlp = spacy.load(\"en_core_web_lg\")\n",
    "\n",
    "from spacy.tokens import Span\n",
    "import dateparser\n",
    "\n",
    "def expand_person_entities(doc):\n",
    "    new_ents = []\n",
    "    doc.ents = [e for e in doc.ents if e.label_=='PERSON']\n",
    "    for ent in doc.ents:\n",
    "        if ent.label_ == \"PERSON\" and ent.start != 0:\n",
    "            prev_token = doc[ent.start - 1]\n",
    "            if prev_token.text in TITLES:\n",
    "                new_ent = Span(doc, ent.start - 1, ent.end, label=ent.label)\n",
    "                new_ents.append(new_ent)\n",
    "        else:\n",
    "            new_ents.append(ent)\n",
    "    doc.ents = new_ents\n",
    "    return doc\n",
    "\n",
    "# Add the component after the named entity recognizer\n",
    "nlp.add_pipe(expand_person_entities, after='ner')"
   ]
  },
  {
   "cell_type": "code",
   "execution_count": 15,
   "metadata": {},
   "outputs": [
    {
     "name": "stderr",
     "output_type": "stream",
     "text": [
      "100%|██████████| 31211/31211 [02:39<00:00, 195.70it/s]\n"
     ]
    }
   ],
   "source": [
    "paradocs = [nlp(para) for para in tqdm(paras)]#[:1000])]"
   ]
  },
  {
   "cell_type": "code",
   "execution_count": 16,
   "metadata": {},
   "outputs": [],
   "source": [
    "from collections import Counter\n",
    "countd=Counter()\n",
    "for pi,pdoc in enumerate(paradocs):\n",
    "    for entd in pdoc.ents:\n",
    "        if entd.label_=='PERSON':\n",
    "#             print(pi,entd.text)\n",
    "            countd[entd.text]+=1"
   ]
  },
  {
   "cell_type": "code",
   "execution_count": 17,
   "metadata": {},
   "outputs": [
    {
     "data": {
      "text/plain": [
       "282"
      ]
     },
     "execution_count": 17,
     "metadata": {},
     "output_type": "execute_result"
    }
   ],
   "source": [
    "len(countd)"
   ]
  },
  {
   "cell_type": "code",
   "execution_count": 18,
   "metadata": {},
   "outputs": [
    {
     "data": {
      "text/plain": [
       "[('Mr. Bucket', 348),\n",
       " ('Mr. Guppy', 329),\n",
       " ('Sir Leicester', 271),\n",
       " ('Mr. Tulkinghorn', 271),\n",
       " ('Mr. George', 253),\n",
       " ('Mr. Jarndyce', 245),\n",
       " ('Mr. Snagsby', 214),\n",
       " ('Mr. Skimpole', 165),\n",
       " ('Mr. Vholes', 129),\n",
       " ('Mr. Smallweed', 124),\n",
       " ('Mr. Kenge', 96),\n",
       " ('Mr. Bagnet', 96),\n",
       " ('Mr. Woodcourt', 93),\n",
       " ('Sir Leicester Dedlock', 92),\n",
       " ('Mr. Turveydrop', 78),\n",
       " ('Miss Summerson', 69),\n",
       " ('Richard', 61),\n",
       " ('Mr. Weevle', 55),\n",
       " ('Mr. Boythorn', 54),\n",
       " ('Mr. Chadband', 50),\n",
       " ('Mr. Jobling', 45),\n",
       " ('Mr. C', 42),\n",
       " ('Mr. Krook', 40),\n",
       " ('Mr. Jellyby', 36),\n",
       " ('Mr. Rouncewell', 33),\n",
       " ('Charley', 33),\n",
       " ('Jo', 31),\n",
       " ('Mr. Badger', 31),\n",
       " ('Jarndyce', 27),\n",
       " ('George', 26),\n",
       " ('Mr. Carstone', 25),\n",
       " ('Summerson', 18),\n",
       " ('Lady Dedlock', 17),\n",
       " ('Volumnia', 17),\n",
       " ('Miss Clare', 16),\n",
       " ('Phil', 16),\n",
       " ('Mr. Gridley', 14),\n",
       " ('Mr. Sangsby', 14),\n",
       " ('Miss Flite', 13),\n",
       " ('Allan', 13),\n",
       " ('Miss Donny', 11),\n",
       " ('Mr. Gusher', 11),\n",
       " ('Kenge', 10),\n",
       " ('Esther', 10),\n",
       " ('Mr. Quale', 10),\n",
       " ('Rosa', 10),\n",
       " ('“Lady Dedlock', 10),\n",
       " ('Miss Barbary', 9),\n",
       " ('Miss Jellyby', 9),\n",
       " ('Mr. Richard', 9),\n",
       " ('Chesney Wold', 9),\n",
       " ('Mr. Tangle', 8),\n",
       " ('Judy', 8),\n",
       " ('Mr. Pardiggle', 7),\n",
       " ('Guster', 7),\n",
       " ('Sir Thomas Doodle', 6),\n",
       " ('Dedlock', 6),\n",
       " ('Jobling', 6),\n",
       " ('Grandfather Smallweed', 6),\n",
       " (\"Sir Leicester Dedlock's\", 6),\n",
       " ('Miss Esther Summerson', 5),\n",
       " ('John Jarndyce', 5),\n",
       " ('Boythorn', 5),\n",
       " ('Mr. Richard Carstone', 4),\n",
       " ('Krook', 4),\n",
       " ('Rick', 4),\n",
       " ('Jenny', 4),\n",
       " ('Sol', 4),\n",
       " ('Phil Squod', 4),\n",
       " ('Miss Volumnia', 4),\n",
       " ('Tony', 4),\n",
       " ('Miss Dedlock', 4),\n",
       " ('My Lady Dedlock', 3),\n",
       " ('Mr. Sladdery', 3),\n",
       " ('Dame Durden', 3),\n",
       " ('Mr. Lawrence Boythorn', 3),\n",
       " ('Mr. Bayham Badger', 3),\n",
       " ('Ma', 3),\n",
       " ('Mr. Allan Woodcourt', 3),\n",
       " ('Miss Smallweed', 3),\n",
       " ('Mr. Squod', 3),\n",
       " ('Mr. William Guppy', 3),\n",
       " ('Mr. Swills', 3),\n",
       " ('Mr. Bogsby', 3),\n",
       " ('Durden', 3),\n",
       " ('Mademoiselle Hortense', 3),\n",
       " ('Allan Woodcourt', 3),\n",
       " ('Mr. Woodcot', 3),\n",
       " ('Caddy Jellyby', 3),\n",
       " ('Mr. C.', 3),\n",
       " ('Ladyship', 3),\n",
       " ('Leicester Dedlock', 3),\n",
       " ('Mr. Blowers', 2),\n",
       " ('Miss Donnys', 2),\n",
       " ('John', 2),\n",
       " ('Sir Morbury Dedlock', 2),\n",
       " ('Sir Morbury', 2),\n",
       " ('Dedlocks', 2),\n",
       " ('Coavins', 2),\n",
       " ('beadle', 2)]"
      ]
     },
     "execution_count": 18,
     "metadata": {},
     "output_type": "execute_result"
    }
   ],
   "source": [
    "countd.most_common(100)"
   ]
  },
  {
   "cell_type": "code",
   "execution_count": 19,
   "metadata": {},
   "outputs": [
    {
     "data": {
      "text/plain": [
       "'“Is it possible,” pursued Mr Kenge, putting up his eye&hyphen;glasses, “that'"
      ]
     },
     "execution_count": 19,
     "metadata": {},
     "output_type": "execute_result"
    }
   ],
   "source": [
    "paras[751]"
   ]
  },
  {
   "cell_type": "code",
   "execution_count": 20,
   "metadata": {},
   "outputs": [],
   "source": [
    "# emma.txt"
   ]
  },
  {
   "cell_type": "code",
   "execution_count": 22,
   "metadata": {},
   "outputs": [],
   "source": [
    "# doc.entities"
   ]
  },
  {
   "cell_type": "code",
   "execution_count": null,
   "metadata": {},
   "outputs": [],
   "source": []
  }
 ],
 "metadata": {
  "kernelspec": {
   "display_name": "Python 3",
   "language": "python",
   "name": "python3"
  },
  "language_info": {
   "codemirror_mode": {
    "name": "ipython",
    "version": 3
   },
   "file_extension": ".py",
   "mimetype": "text/x-python",
   "name": "python",
   "nbconvert_exporter": "python",
   "pygments_lexer": "ipython3",
   "version": "3.7.7"
  },
  "widgets": {
   "application/vnd.jupyter.widget-state+json": {
    "state": {},
    "version_major": 2,
    "version_minor": 0
   }
  }
 },
 "nbformat": 4,
 "nbformat_minor": 4
}
